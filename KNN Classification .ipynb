{
 "cells": [
  {
   "cell_type": "code",
   "execution_count": 1,
   "metadata": {},
   "outputs": [],
   "source": [
    "import pandas as pd\n",
    "import numpy as np\n",
    "import seaborn as sns\n",
    "import matplotlib.pyplot as plt\n",
    "\n",
    "import warnings\n",
    "warnings.filterwarnings(\"ignore\")"
   ]
  },
  {
   "cell_type": "code",
   "execution_count": 4,
   "metadata": {},
   "outputs": [
    {
     "name": "stdout",
     "output_type": "stream",
     "text": [
      "(891, 11)\n",
      "(21, 11)\n"
     ]
    }
   ],
   "source": [
    "train_df = pd.read_excel('DATA/Titanic_Survival_Train.xls',\n",
    "                       index_col=0, header=0)       \n",
    "\n",
    "test_df = pd.read_excel('DATA/Titanic_Survival_Test.xls',\n",
    "                       index_col = 0, \n",
    "                       header = 0)\n",
    "\n",
    "print(train_df.shape)\n",
    "print(test_df.shape)"
   ]
  },
  {
   "cell_type": "code",
   "execution_count": 5,
   "metadata": {},
   "outputs": [],
   "source": [
    "# 1. Function to create piechart\n",
    "\n",
    "\n",
    "def create_piechart(data,column):\n",
    "    \"\"\"\n",
    "    objective: Create Piechart for Categorical variables present in Pandas DataFrame\n",
    "    \n",
    "    Parameters: \n",
    "          Data: This is pandas dataframe\n",
    "          Column: This is column name which is used to create plot\n",
    "          \n",
    "    Return:\n",
    "        This will show piechart\n",
    "    \n",
    "    \"\"\"\n",
    "    \n",
    "    labels = list(data[column].value_counts().to_dict().keys())\n",
    "    sizes = list(data[column].value_counts().to_dict().values())\n",
    "    \n",
    "    plt.pie(sizes,\n",
    "           labels=labels,\n",
    "           autopct='%1.2f%%',\n",
    "           shadow=False,\n",
    "           startangle=45)\n",
    "    \n",
    "    plt.axis('equal')\n",
    "    plt.title(\"Piechart for {}\".format(column))\n",
    "    plt.show()\n",
    "    \n",
    "#2. Function to find missing data\n",
    "\n",
    "def check_missing_value(data):\n",
    "    \"\"\"\n",
    "    Objective: Check missing value count and percentage in all columns\n",
    "    \n",
    "    data: input data frame\n",
    "    \n",
    "    return: Missing value data frame\n",
    "    \n",
    "    \"\"\"\n",
    "    \n",
    "    total = data.isnull().sum().sort_values(ascending=False)\n",
    "    percent = (data.isnull().sum()/data.isnull().count() * 100).sort_values(ascending=False)\n",
    "    missing_data = pd.concat([total,percent],axis=1,keys=['Total','Percent'])\n",
    "    return missing_data"
   ]
  },
  {
   "cell_type": "code",
   "execution_count": 6,
   "metadata": {},
   "outputs": [
    {
     "data": {
      "text/html": [
       "<div>\n",
       "<style scoped>\n",
       "    .dataframe tbody tr th:only-of-type {\n",
       "        vertical-align: middle;\n",
       "    }\n",
       "\n",
       "    .dataframe tbody tr th {\n",
       "        vertical-align: top;\n",
       "    }\n",
       "\n",
       "    .dataframe thead th {\n",
       "        text-align: right;\n",
       "    }\n",
       "</style>\n",
       "<table border=\"1\" class=\"dataframe\">\n",
       "  <thead>\n",
       "    <tr style=\"text-align: right;\">\n",
       "      <th></th>\n",
       "      <th>Survived</th>\n",
       "      <th>Pclass</th>\n",
       "      <th>Name</th>\n",
       "      <th>Sex</th>\n",
       "      <th>Age</th>\n",
       "      <th>SibSp</th>\n",
       "      <th>Parch</th>\n",
       "      <th>Ticket</th>\n",
       "      <th>Fare</th>\n",
       "      <th>Cabin</th>\n",
       "      <th>Embarked</th>\n",
       "    </tr>\n",
       "    <tr>\n",
       "      <th>PassengerId</th>\n",
       "      <th></th>\n",
       "      <th></th>\n",
       "      <th></th>\n",
       "      <th></th>\n",
       "      <th></th>\n",
       "      <th></th>\n",
       "      <th></th>\n",
       "      <th></th>\n",
       "      <th></th>\n",
       "      <th></th>\n",
       "      <th></th>\n",
       "    </tr>\n",
       "  </thead>\n",
       "  <tbody>\n",
       "    <tr>\n",
       "      <th>1</th>\n",
       "      <td>0</td>\n",
       "      <td>3</td>\n",
       "      <td>Braund, Mr. Owen Harris</td>\n",
       "      <td>male</td>\n",
       "      <td>22.0</td>\n",
       "      <td>1</td>\n",
       "      <td>0</td>\n",
       "      <td>A/5 21171</td>\n",
       "      <td>7.2500</td>\n",
       "      <td>NaN</td>\n",
       "      <td>S</td>\n",
       "    </tr>\n",
       "    <tr>\n",
       "      <th>2</th>\n",
       "      <td>1</td>\n",
       "      <td>1</td>\n",
       "      <td>Cumings, Mrs. John Bradley (Florence Briggs Th...</td>\n",
       "      <td>female</td>\n",
       "      <td>38.0</td>\n",
       "      <td>1</td>\n",
       "      <td>0</td>\n",
       "      <td>PC 17599</td>\n",
       "      <td>71.2833</td>\n",
       "      <td>C85</td>\n",
       "      <td>C</td>\n",
       "    </tr>\n",
       "    <tr>\n",
       "      <th>3</th>\n",
       "      <td>1</td>\n",
       "      <td>3</td>\n",
       "      <td>Heikkinen, Miss. Laina</td>\n",
       "      <td>female</td>\n",
       "      <td>26.0</td>\n",
       "      <td>0</td>\n",
       "      <td>0</td>\n",
       "      <td>STON/O2. 3101282</td>\n",
       "      <td>7.9250</td>\n",
       "      <td>NaN</td>\n",
       "      <td>S</td>\n",
       "    </tr>\n",
       "    <tr>\n",
       "      <th>4</th>\n",
       "      <td>1</td>\n",
       "      <td>1</td>\n",
       "      <td>Futrelle, Mrs. Jacques Heath (Lily May Peel)</td>\n",
       "      <td>female</td>\n",
       "      <td>35.0</td>\n",
       "      <td>1</td>\n",
       "      <td>0</td>\n",
       "      <td>113803</td>\n",
       "      <td>53.1000</td>\n",
       "      <td>C123</td>\n",
       "      <td>S</td>\n",
       "    </tr>\n",
       "    <tr>\n",
       "      <th>5</th>\n",
       "      <td>0</td>\n",
       "      <td>3</td>\n",
       "      <td>Allen, Mr. William Henry</td>\n",
       "      <td>male</td>\n",
       "      <td>35.0</td>\n",
       "      <td>0</td>\n",
       "      <td>0</td>\n",
       "      <td>373450</td>\n",
       "      <td>8.0500</td>\n",
       "      <td>NaN</td>\n",
       "      <td>S</td>\n",
       "    </tr>\n",
       "  </tbody>\n",
       "</table>\n",
       "</div>"
      ],
      "text/plain": [
       "             Survived  Pclass  \\\n",
       "PassengerId                     \n",
       "1                   0       3   \n",
       "2                   1       1   \n",
       "3                   1       3   \n",
       "4                   1       1   \n",
       "5                   0       3   \n",
       "\n",
       "                                                          Name     Sex   Age  \\\n",
       "PassengerId                                                                    \n",
       "1                                      Braund, Mr. Owen Harris    male  22.0   \n",
       "2            Cumings, Mrs. John Bradley (Florence Briggs Th...  female  38.0   \n",
       "3                                       Heikkinen, Miss. Laina  female  26.0   \n",
       "4                 Futrelle, Mrs. Jacques Heath (Lily May Peel)  female  35.0   \n",
       "5                                     Allen, Mr. William Henry    male  35.0   \n",
       "\n",
       "             SibSp  Parch            Ticket     Fare Cabin Embarked  \n",
       "PassengerId                                                          \n",
       "1                1      0         A/5 21171   7.2500   NaN        S  \n",
       "2                1      0          PC 17599  71.2833   C85        C  \n",
       "3                0      0  STON/O2. 3101282   7.9250   NaN        S  \n",
       "4                1      0            113803  53.1000  C123        S  \n",
       "5                0      0            373450   8.0500   NaN        S  "
      ]
     },
     "execution_count": 6,
     "metadata": {},
     "output_type": "execute_result"
    }
   ],
   "source": [
    "train_df.head()"
   ]
  },
  {
   "cell_type": "markdown",
   "metadata": {},
   "source": [
    "### Step 2: EDA"
   ]
  },
  {
   "cell_type": "code",
   "execution_count": 7,
   "metadata": {},
   "outputs": [
    {
     "data": {
      "image/png": "[encoded data removed]",
      "text/plain": [
       "<Figure size 432x288 with 1 Axes>"
      ]
     },
     "metadata": {
      "needs_background": "light"
     },
     "output_type": "display_data"
    }
   ],
   "source": [
    "# Plot histogram\n",
    "sns.histplot(data = train_df, x=\"Age\", kde = True)\n",
    "plt.show()"
   ]
  },
  {
   "cell_type": "markdown",
   "metadata": {},
   "source": [
    "- Majority passenger belongs to age group of 20 to 40\n",
    "- children from 1 to 5 age is 40\n",
    "- less senior citizen"
   ]
  },
  {
   "cell_type": "code",
   "execution_count": 8,
   "metadata": {},
   "outputs": [
    {
     "data": {
      "image/png": "[encoded data removed]",
      "text/plain": [
       "<Figure size 432x288 with 1 Axes>"
      ]
     },
     "metadata": {
      "needs_background": "light"
     },
     "output_type": "display_data"
    }
   ],
   "source": [
    "sns.histplot(data = train_df, x=\"Age\", \n",
    "             kde = False, \n",
    "             hue = \"Survived\",\n",
    "             element=\"poly\")\n",
    "plt.show()"
   ]
  },
  {
   "cell_type": "code",
   "execution_count": 9,
   "metadata": {},
   "outputs": [
    {
     "data": {
      "image/png": "[encoded data removed]",
      "text/plain": [
       "<Figure size 432x288 with 1 Axes>"
      ]
     },
     "metadata": {},
     "output_type": "display_data"
    }
   ],
   "source": [
    "create_piechart(train_df, \"Survived\")"
   ]
  },
  {
   "cell_type": "markdown",
   "metadata": {},
   "source": [
    "- From the above plot we can observe that only 38.38% of people survived"
   ]
  },
  {
   "cell_type": "code",
   "execution_count": 10,
   "metadata": {},
   "outputs": [
    {
     "data": {
      "image/png": "[encoded data removed]",
      "text/plain": [
       "<Figure size 432x288 with 1 Axes>"
      ]
     },
     "metadata": {},
     "output_type": "display_data"
    }
   ],
   "source": [
    "create_piechart(train_df, \"Sex\")"
   ]
  },
  {
   "cell_type": "code",
   "execution_count": 12,
   "metadata": {},
   "outputs": [
    {
     "data": {
      "image/png": "[encoded data removed]",
      "text/plain": [
       "<Figure size 402.375x360 with 1 Axes>"
      ]
     },
     "metadata": {
      "needs_background": "light"
     },
     "output_type": "display_data"
    }
   ],
   "source": [
    "sns.catplot(data=train_df,\n",
    "           x=\"Sex\",\n",
    "           y=\"Survived\",\n",
    "           hue=\"Pclass\",\n",
    "           kind=\"bar\")\n",
    "\n",
    "plt.show()"
   ]
  },
  {
   "cell_type": "markdown",
   "metadata": {},
   "source": [
    "- From the above plot we may observe that if the passenger is female and she belongs to class P1 category then her chances of survival during the accident will be 95% - 100 as compared to P1 class of Male passenger which is about 25% - 37%.\n",
    "- And if a female passenger belongs to P2 category then her chances of survival will be 85% to 95% as compared to male passenger of p2 category which is oly 5% - 15%.\n",
    "- and if she belongs to P3 class category then her chances of survival is is a little low but more than the chances of a male passenger of P1 category which is 40% to 50%"
   ]
  },
  {
   "cell_type": "code",
   "execution_count": 15,
   "metadata": {},
   "outputs": [
    {
     "data": {
      "image/png": "[encoded data removed]",
      "text/plain": [
       "<Figure size 402.375x360 with 1 Axes>"
      ]
     },
     "metadata": {
      "needs_background": "light"
     },
     "output_type": "display_data"
    }
   ],
   "source": [
    "sns.catplot(data=train_df,\n",
    "           x=\"Sex\",\n",
    "           y=\"Age\",\n",
    "           hue=\"Pclass\",\n",
    "           kind=\"box\")\n",
    "\n",
    "plt.show()"
   ]
  },
  {
   "cell_type": "code",
   "execution_count": 16,
   "metadata": {},
   "outputs": [
    {
     "data": {
      "image/png": "[encoded data removed]",
      "text/plain": [
       "<Figure size 402.375x360 with 1 Axes>"
      ]
     },
     "metadata": {
      "needs_background": "light"
     },
     "output_type": "display_data"
    }
   ],
   "source": [
    "sns.catplot(data=train_df,\n",
    "           x=\"Sex\",\n",
    "           y=\"Age\",\n",
    "           hue=\"Pclass\",\n",
    "           kind=\"violin\")\n",
    "\n",
    "plt.show()"
   ]
  },
  {
   "cell_type": "code",
   "execution_count": 17,
   "metadata": {},
   "outputs": [
    {
     "data": {
      "image/png": "[encoded data removed]",
      "text/plain": [
       "<Figure size 432x288 with 1 Axes>"
      ]
     },
     "metadata": {
      "needs_background": "light"
     },
     "output_type": "display_data"
    }
   ],
   "source": [
    "sns.countplot(x=\"Survived\",\n",
    "             hue=\"Embarked\",\n",
    "             data=train_df)\n",
    "plt.show()"
   ]
  },
  {
   "cell_type": "code",
   "execution_count": 18,
   "metadata": {},
   "outputs": [
    {
     "data": {
      "image/png": "[encoded data removed]",
      "text/plain": [
       "<Figure size 432x288 with 1 Axes>"
      ]
     },
     "metadata": {
      "needs_background": "light"
     },
     "output_type": "display_data"
    }
   ],
   "source": [
    "sns.scatterplot(data=train_df, x=\"Fare\",y=\"Age\",hue=\"Pclass\",palette='gist_rainbow')\n",
    "plt.show()"
   ]
  },
  {
   "cell_type": "code",
   "execution_count": 19,
   "metadata": {
    "scrolled": false
   },
   "outputs": [
    {
     "data": {
      "image/png": "[encoded data removed]",
      "text/plain": [
       "<Figure size 432x288 with 1 Axes>"
      ]
     },
     "metadata": {
      "needs_background": "light"
     },
     "output_type": "display_data"
    }
   ],
   "source": [
    "sns.scatterplot(data=train_df, x=\"Fare\",y=\"Age\",hue=\"Survived\",palette='gist_rainbow')\n",
    "plt.show()"
   ]
  },
  {
   "cell_type": "markdown",
   "metadata": {},
   "source": [
    "### Step 3: Data Preprocessing"
   ]
  },
  {
   "cell_type": "code",
   "execution_count": 20,
   "metadata": {},
   "outputs": [
    {
     "data": {
      "text/plain": [
       "Index(['Survived', 'Pclass', 'Name', 'Sex', 'Age', 'SibSp', 'Parch', 'Ticket',\n",
       "       'Fare', 'Cabin', 'Embarked'],\n",
       "      dtype='object')"
      ]
     },
     "execution_count": 20,
     "metadata": {},
     "output_type": "execute_result"
    }
   ],
   "source": [
    "train_df.columns"
   ]
  },
  {
   "cell_type": "code",
   "execution_count": 21,
   "metadata": {},
   "outputs": [],
   "source": [
    "#Feature selection\n",
    "train_df = train_df[['Name','Pclass','Sex','Age','Survived']]\n",
    "test_df = test_df[['Name','Pclass','Sex','Age','Survived']]"
   ]
  },
  {
   "cell_type": "code",
   "execution_count": 22,
   "metadata": {},
   "outputs": [
    {
     "name": "stdout",
     "output_type": "stream",
     "text": [
      "Name          0\n",
      "Pclass        0\n",
      "Sex           0\n",
      "Age         177\n",
      "Survived      0\n",
      "dtype: int64\n",
      "\n",
      "Name        0\n",
      "Pclass      0\n",
      "Sex         0\n",
      "Age         2\n",
      "Survived    0\n",
      "dtype: int64\n"
     ]
    }
   ],
   "source": [
    "# Find the missing values\n",
    "print(train_df.isnull().sum())\n",
    "print()\n",
    "print(test_df.isnull().sum())"
   ]
  },
  {
   "cell_type": "code",
   "execution_count": 23,
   "metadata": {},
   "outputs": [],
   "source": [
    "# imputing numerical missing data with mean value\n",
    "\n",
    "train_df[\"Age\"].fillna(train_df[\"Age\"].mean(), inplace=True)\n",
    "\n",
    "test_df[\"Age\"].fillna(test_df[\"Age\"].mean(), inplace=True)"
   ]
  },
  {
   "cell_type": "code",
   "execution_count": 24,
   "metadata": {},
   "outputs": [
    {
     "name": "stdout",
     "output_type": "stream",
     "text": [
      "Name        0\n",
      "Pclass      0\n",
      "Sex         0\n",
      "Age         0\n",
      "Survived    0\n",
      "dtype: int64\n",
      "\n",
      "Name        0\n",
      "Pclass      0\n",
      "Sex         0\n",
      "Age         0\n",
      "Survived    0\n",
      "dtype: int64\n"
     ]
    }
   ],
   "source": [
    "print(train_df.isnull().sum())\n",
    "print()\n",
    "print(test_df.isnull().sum())"
   ]
  },
  {
   "cell_type": "code",
   "execution_count": 25,
   "metadata": {},
   "outputs": [],
   "source": [
    "# manual labelling\n",
    "train_df[\"Sex\"]=train_df[\"Sex\"].map({\"male\":0,\"female\":1})\n",
    "test_df[\"Sex\"]=test_df[\"Sex\"].map({\"male\":0,\"female\":1})"
   ]
  },
  {
   "cell_type": "code",
   "execution_count": 26,
   "metadata": {},
   "outputs": [
    {
     "data": {
      "text/html": [
       "<div>\n",
       "<style scoped>\n",
       "    .dataframe tbody tr th:only-of-type {\n",
       "        vertical-align: middle;\n",
       "    }\n",
       "\n",
       "    .dataframe tbody tr th {\n",
       "        vertical-align: top;\n",
       "    }\n",
       "\n",
       "    .dataframe thead th {\n",
       "        text-align: right;\n",
       "    }\n",
       "</style>\n",
       "<table border=\"1\" class=\"dataframe\">\n",
       "  <thead>\n",
       "    <tr style=\"text-align: right;\">\n",
       "      <th></th>\n",
       "      <th>Name</th>\n",
       "      <th>Pclass</th>\n",
       "      <th>Sex</th>\n",
       "      <th>Age</th>\n",
       "      <th>Survived</th>\n",
       "    </tr>\n",
       "    <tr>\n",
       "      <th>PassengerId</th>\n",
       "      <th></th>\n",
       "      <th></th>\n",
       "      <th></th>\n",
       "      <th></th>\n",
       "      <th></th>\n",
       "    </tr>\n",
       "  </thead>\n",
       "  <tbody>\n",
       "    <tr>\n",
       "      <th>1</th>\n",
       "      <td>Braund, Mr. Owen Harris</td>\n",
       "      <td>3</td>\n",
       "      <td>0</td>\n",
       "      <td>22.0</td>\n",
       "      <td>0</td>\n",
       "    </tr>\n",
       "    <tr>\n",
       "      <th>2</th>\n",
       "      <td>Cumings, Mrs. John Bradley (Florence Briggs Th...</td>\n",
       "      <td>1</td>\n",
       "      <td>1</td>\n",
       "      <td>38.0</td>\n",
       "      <td>1</td>\n",
       "    </tr>\n",
       "    <tr>\n",
       "      <th>3</th>\n",
       "      <td>Heikkinen, Miss. Laina</td>\n",
       "      <td>3</td>\n",
       "      <td>1</td>\n",
       "      <td>26.0</td>\n",
       "      <td>1</td>\n",
       "    </tr>\n",
       "    <tr>\n",
       "      <th>4</th>\n",
       "      <td>Futrelle, Mrs. Jacques Heath (Lily May Peel)</td>\n",
       "      <td>1</td>\n",
       "      <td>1</td>\n",
       "      <td>35.0</td>\n",
       "      <td>1</td>\n",
       "    </tr>\n",
       "    <tr>\n",
       "      <th>5</th>\n",
       "      <td>Allen, Mr. William Henry</td>\n",
       "      <td>3</td>\n",
       "      <td>0</td>\n",
       "      <td>35.0</td>\n",
       "      <td>0</td>\n",
       "    </tr>\n",
       "  </tbody>\n",
       "</table>\n",
       "</div>"
      ],
      "text/plain": [
       "                                                          Name  Pclass  Sex  \\\n",
       "PassengerId                                                                   \n",
       "1                                      Braund, Mr. Owen Harris       3    0   \n",
       "2            Cumings, Mrs. John Bradley (Florence Briggs Th...       1    1   \n",
       "3                                       Heikkinen, Miss. Laina       3    1   \n",
       "4                 Futrelle, Mrs. Jacques Heath (Lily May Peel)       1    1   \n",
       "5                                     Allen, Mr. William Henry       3    0   \n",
       "\n",
       "              Age  Survived  \n",
       "PassengerId                  \n",
       "1            22.0         0  \n",
       "2            38.0         1  \n",
       "3            26.0         1  \n",
       "4            35.0         1  \n",
       "5            35.0         0  "
      ]
     },
     "execution_count": 26,
     "metadata": {},
     "output_type": "execute_result"
    }
   ],
   "source": [
    "train_df.head()"
   ]
  },
  {
   "cell_type": "code",
   "execution_count": 27,
   "metadata": {},
   "outputs": [
    {
     "data": {
      "text/html": [
       "<div>\n",
       "<style scoped>\n",
       "    .dataframe tbody tr th:only-of-type {\n",
       "        vertical-align: middle;\n",
       "    }\n",
       "\n",
       "    .dataframe tbody tr th {\n",
       "        vertical-align: top;\n",
       "    }\n",
       "\n",
       "    .dataframe thead th {\n",
       "        text-align: right;\n",
       "    }\n",
       "</style>\n",
       "<table border=\"1\" class=\"dataframe\">\n",
       "  <thead>\n",
       "    <tr style=\"text-align: right;\">\n",
       "      <th></th>\n",
       "      <th>Name</th>\n",
       "      <th>Pclass</th>\n",
       "      <th>Sex</th>\n",
       "      <th>Age</th>\n",
       "      <th>Survived</th>\n",
       "    </tr>\n",
       "    <tr>\n",
       "      <th>PassengerId</th>\n",
       "      <th></th>\n",
       "      <th></th>\n",
       "      <th></th>\n",
       "      <th></th>\n",
       "      <th></th>\n",
       "    </tr>\n",
       "  </thead>\n",
       "  <tbody>\n",
       "    <tr>\n",
       "      <th>871</th>\n",
       "      <td>Balkic, Mr. Cerin</td>\n",
       "      <td>3</td>\n",
       "      <td>0</td>\n",
       "      <td>26.0</td>\n",
       "      <td>0</td>\n",
       "    </tr>\n",
       "    <tr>\n",
       "      <th>872</th>\n",
       "      <td>Beckwith, Mrs. Richard Leonard (Sallie Monypeny)</td>\n",
       "      <td>1</td>\n",
       "      <td>1</td>\n",
       "      <td>47.0</td>\n",
       "      <td>1</td>\n",
       "    </tr>\n",
       "    <tr>\n",
       "      <th>873</th>\n",
       "      <td>Carlsson, Mr. Frans Olof</td>\n",
       "      <td>1</td>\n",
       "      <td>0</td>\n",
       "      <td>33.0</td>\n",
       "      <td>0</td>\n",
       "    </tr>\n",
       "    <tr>\n",
       "      <th>874</th>\n",
       "      <td>Vander Cruyssen, Mr. Victor</td>\n",
       "      <td>3</td>\n",
       "      <td>0</td>\n",
       "      <td>47.0</td>\n",
       "      <td>0</td>\n",
       "    </tr>\n",
       "    <tr>\n",
       "      <th>875</th>\n",
       "      <td>Abelson, Mrs. Samuel (Hannah Wizosky)</td>\n",
       "      <td>2</td>\n",
       "      <td>1</td>\n",
       "      <td>28.0</td>\n",
       "      <td>1</td>\n",
       "    </tr>\n",
       "  </tbody>\n",
       "</table>\n",
       "</div>"
      ],
      "text/plain": [
       "                                                         Name  Pclass  Sex  \\\n",
       "PassengerId                                                                  \n",
       "871                                         Balkic, Mr. Cerin       3    0   \n",
       "872          Beckwith, Mrs. Richard Leonard (Sallie Monypeny)       1    1   \n",
       "873                                  Carlsson, Mr. Frans Olof       1    0   \n",
       "874                               Vander Cruyssen, Mr. Victor       3    0   \n",
       "875                     Abelson, Mrs. Samuel (Hannah Wizosky)       2    1   \n",
       "\n",
       "              Age  Survived  \n",
       "PassengerId                  \n",
       "871          26.0         0  \n",
       "872          47.0         1  \n",
       "873          33.0         0  \n",
       "874          47.0         0  \n",
       "875          28.0         1  "
      ]
     },
     "execution_count": 27,
     "metadata": {},
     "output_type": "execute_result"
    }
   ],
   "source": [
    "test_df.head()"
   ]
  },
  {
   "cell_type": "code",
   "execution_count": 28,
   "metadata": {},
   "outputs": [
    {
     "data": {
      "text/plain": [
       "(21, 5)"
      ]
     },
     "execution_count": 28,
     "metadata": {},
     "output_type": "execute_result"
    }
   ],
   "source": [
    "test_df.shape"
   ]
  },
  {
   "cell_type": "code",
   "execution_count": 29,
   "metadata": {},
   "outputs": [],
   "source": [
    "X_train = train_df.values[:870, 1:-1]   #variables from pclass to age\n",
    "y_train = train_df.values[:870,  -1]    # passengersids from 1 to 870\n",
    "y_train = y_train.astype(int)\n",
    "\n",
    "X_test = test_df.values[:, 1:-1]\n",
    "y_test = test_df.values[:,  -1]\n",
    "y_test = y_test.astype(int)"
   ]
  },
  {
   "cell_type": "code",
   "execution_count": 30,
   "metadata": {},
   "outputs": [],
   "source": [
    "from sklearn.preprocessing import StandardScaler, MinMaxScaler\n",
    "\n",
    "# mean = 0 and std = 1\n",
    "\n",
    "scaler = MinMaxScaler()\n",
    "\n",
    "scaler.fit(X_train)\n",
    "\n",
    "X_train_scale = scaler.transform(X_train)\n",
    "X_test_scale = scaler.transform(X_test)"
   ]
  },
  {
   "cell_type": "code",
   "execution_count": 31,
   "metadata": {},
   "outputs": [
    {
     "data": {
      "text/plain": [
       "array([[1.        , 0.        , 0.27117366],\n",
       "       [0.        , 1.        , 0.4722292 ],\n",
       "       [1.        , 1.        , 0.32143755],\n",
       "       ...,\n",
       "       [0.        , 0.        , 0.3842674 ],\n",
       "       [1.        , 0.        , 0.36792055],\n",
       "       [1.        , 0.        , 0.04498618]])"
      ]
     },
     "execution_count": 31,
     "metadata": {},
     "output_type": "execute_result"
    }
   ],
   "source": [
    "X_train_scale"
   ]
  },
  {
   "cell_type": "code",
   "execution_count": 32,
   "metadata": {},
   "outputs": [
    {
     "data": {
      "text/plain": [
       "array([[1.        , 0.        , 0.32143755],\n",
       "       [0.        , 1.        , 0.58532295],\n",
       "       [0.        , 0.        , 0.40939935],\n",
       "       [1.        , 0.        , 0.58532295],\n",
       "       [0.5       , 1.        , 0.34656949],\n",
       "       [1.        , 1.        , 0.18321186],\n",
       "       [1.        , 0.        , 0.24604172],\n",
       "       [1.        , 0.        , 0.23347575],\n",
       "       [1.        , 0.        , 0.36971733],\n",
       "       [0.        , 1.        , 0.69841669],\n",
       "       [0.5       , 1.        , 0.30887158],\n",
       "       [1.        , 0.        , 0.40939935],\n",
       "       [1.        , 1.        , 0.27117366],\n",
       "       [0.5       , 0.        , 0.34656949],\n",
       "       [1.        , 0.        , 0.30887158],\n",
       "       [1.        , 1.        , 0.48479517],\n",
       "       [0.5       , 0.        , 0.33400352],\n",
       "       [0.        , 1.        , 0.23347575],\n",
       "       [1.        , 1.        , 0.36971733],\n",
       "       [0.        , 0.        , 0.32143755],\n",
       "       [1.        , 0.        , 0.39683338]])"
      ]
     },
     "execution_count": 32,
     "metadata": {},
     "output_type": "execute_result"
    }
   ],
   "source": [
    "X_test_scale"
   ]
  },
  {
   "cell_type": "code",
   "execution_count": 33,
   "metadata": {},
   "outputs": [],
   "source": [
    "from sklearn.linear_model import LogisticRegression"
   ]
  },
  {
   "cell_type": "code",
   "execution_count": 34,
   "metadata": {},
   "outputs": [
    {
     "name": "stdout",
     "output_type": "stream",
     "text": [
      "[(0, 0), (1, 1), (0, 0), (0, 0), (1, 1), (1, 1), (0, 0), (0, 0), (0, 0), (1, 1), (1, 1), (0, 0), (0, 1), (0, 0), (0, 0), (0, 1), (0, 0), (1, 1), (0, 1), (1, 0), (0, 0)]\n",
      "Wall time: 26.9 ms\n"
     ]
    }
   ],
   "source": [
    "%%time\n",
    "\n",
    "# create a model\n",
    "classifier = LogisticRegression()\n",
    "\n",
    "# fitting training data into the model\n",
    "classifier.fit(X_train_scale, y_train)\n",
    "\n",
    "# predict using model\n",
    "y_pred=classifier.predict(X_test_scale)\n",
    "\n",
    "print(list(zip(y_test, y_pred)))"
   ]
  },
  {
   "cell_type": "code",
   "execution_count": 35,
   "metadata": {},
   "outputs": [
    {
     "name": "stdout",
     "output_type": "stream",
     "text": [
      "[('Name', -2.038322176371254), ('Pclass', 2.4858597024325184), ('Sex', -1.8652831802038665)]\n",
      "[0.53016444]\n"
     ]
    }
   ],
   "source": [
    "print(list(zip(test_df.columns[:-1], classifier.coef_.ravel())))\n",
    "print(classifier.intercept_)"
   ]
  },
  {
   "cell_type": "code",
   "execution_count": 36,
   "metadata": {},
   "outputs": [
    {
     "name": "stdout",
     "output_type": "stream",
     "text": [
      "[[11  3]\n",
      " [ 1  6]]\n",
      "Classification report: \n",
      "              precision    recall  f1-score   support\n",
      "\n",
      "           0       0.92      0.79      0.85        14\n",
      "           1       0.67      0.86      0.75         7\n",
      "\n",
      "    accuracy                           0.81        21\n",
      "   macro avg       0.79      0.82      0.80        21\n",
      "weighted avg       0.83      0.81      0.81        21\n",
      "\n",
      "Accuracy of the model:  0.8095238095238095\n"
     ]
    }
   ],
   "source": [
    "from sklearn.metrics import confusion_matrix, accuracy_score, classification_report\n",
    "\n",
    "cfm = confusion_matrix(y_test, y_pred)\n",
    "print(cfm)\n",
    "\n",
    "print(\"Classification report: \")\n",
    "\n",
    "print(classification_report(y_test, y_pred))\n",
    "\n",
    "acc = accuracy_score(y_test, y_pred)\n",
    "print(\"Accuracy of the model: \", acc) "
   ]
  },
  {
   "cell_type": "code",
   "execution_count": 37,
   "metadata": {},
   "outputs": [
    {
     "name": "stdout",
     "output_type": "stream",
     "text": [
      "[[458  77]\n",
      " [104 231]]\n",
      "Classification report: \n",
      "              precision    recall  f1-score   support\n",
      "\n",
      "           0       0.81      0.86      0.84       535\n",
      "           1       0.75      0.69      0.72       335\n",
      "\n",
      "    accuracy                           0.79       870\n",
      "   macro avg       0.78      0.77      0.78       870\n",
      "weighted avg       0.79      0.79      0.79       870\n",
      "\n",
      "Accuracy of the model:  0.7919540229885057\n"
     ]
    }
   ],
   "source": [
    "y_pred_train=classifier.predict(X_train_scale)\n",
    "\n",
    "cfm = confusion_matrix(y_train, y_pred_train)\n",
    "print(cfm)\n",
    "\n",
    "print(\"Classification report: \")\n",
    "\n",
    "print(classification_report(y_train, y_pred_train))\n",
    "\n",
    "acc = accuracy_score(y_train, y_pred_train)\n",
    "print(\"Accuracy of the model: \", acc)"
   ]
  },
  {
   "cell_type": "code",
   "execution_count": 38,
   "metadata": {},
   "outputs": [],
   "source": [
    "from sklearn.neighbors import KNeighborsClassifier"
   ]
  },
  {
   "cell_type": "code",
   "execution_count": 39,
   "metadata": {},
   "outputs": [],
   "source": [
    "model_KNN = KNeighborsClassifier(n_neighbors=15)\n",
    "#fit the model on the data and predict the values \n",
    "model_KNN.fit(X_train,y_train)\n",
    "\n",
    "y_pred=model_KNN.predict(X_test)"
   ]
  },
  {
   "cell_type": "code",
   "execution_count": 40,
   "metadata": {},
   "outputs": [
    {
     "data": {
      "text/plain": [
       "array([0, 0, 1, 0, 1, 0, 0, 0, 0, 0, 0, 0, 0, 0, 0, 0, 1, 1, 1, 0, 0])"
      ]
     },
     "execution_count": 40,
     "metadata": {},
     "output_type": "execute_result"
    }
   ],
   "source": [
    "y_pred"
   ]
  },
  {
   "cell_type": "code",
   "execution_count": 41,
   "metadata": {},
   "outputs": [
    {
     "data": {
      "text/plain": [
       "array([0, 1, 0, 0, 1, 1, 0, 0, 0, 1, 1, 0, 0, 0, 0, 0, 0, 1, 0, 1, 0])"
      ]
     },
     "execution_count": 41,
     "metadata": {},
     "output_type": "execute_result"
    }
   ],
   "source": [
    "y_test"
   ]
  },
  {
   "cell_type": "code",
   "execution_count": 42,
   "metadata": {},
   "outputs": [
    {
     "name": "stdout",
     "output_type": "stream",
     "text": [
      "[[11  3]\n",
      " [ 5  2]]\n",
      "\n",
      "Classification report: \n",
      "              precision    recall  f1-score   support\n",
      "\n",
      "           0       0.69      0.79      0.73        14\n",
      "           1       0.40      0.29      0.33         7\n",
      "\n",
      "    accuracy                           0.62        21\n",
      "   macro avg       0.54      0.54      0.53        21\n",
      "weighted avg       0.59      0.62      0.60        21\n",
      "\n",
      "Accuracy of the model:  0.6190476190476191\n"
     ]
    }
   ],
   "source": [
    "from sklearn.metrics import confusion_matrix, accuracy_score,classification_report\n",
    "\n",
    "conf_matrix=confusion_matrix(y_test,y_pred)\n",
    "print(conf_matrix)\n",
    "print()\n",
    "\n",
    "print(\"Classification report: \")\n",
    "\n",
    "print(classification_report(y_test, y_pred))\n",
    "\n",
    "acc_score=accuracy_score(y_test, y_pred)\n",
    "print(\"Accuracy of the model: \",acc_score)"
   ]
  },
  {
   "cell_type": "code",
   "execution_count": 43,
   "metadata": {},
   "outputs": [],
   "source": [
    "y_pred_train=model_KNN.predict(X_train)"
   ]
  },
  {
   "cell_type": "code",
   "execution_count": 45,
   "metadata": {},
   "outputs": [
    {
     "name": "stdout",
     "output_type": "stream",
     "text": [
      "[[476  59]\n",
      " [117 218]]\n",
      "\n",
      "Classification report: \n",
      "              precision    recall  f1-score   support\n",
      "\n",
      "           0       0.80      0.89      0.84       535\n",
      "           1       0.79      0.65      0.71       335\n",
      "\n",
      "    accuracy                           0.80       870\n",
      "   macro avg       0.79      0.77      0.78       870\n",
      "weighted avg       0.80      0.80      0.79       870\n",
      "\n",
      "Accuracy of the model:  0.7977011494252874\n"
     ]
    }
   ],
   "source": [
    "conf_matrix=confusion_matrix(y_train,y_pred_train)\n",
    "print(conf_matrix)\n",
    "print()\n",
    "\n",
    "print(\"Classification report: \")\n",
    "\n",
    "print(classification_report(y_train, y_pred_train))\n",
    "\n",
    "acc_score=accuracy_score(y_train, y_pred_train)\n",
    "print(\"Accuracy of the model: \",acc_score)"
   ]
  },
  {
   "cell_type": "code",
   "execution_count": 46,
   "metadata": {},
   "outputs": [
    {
     "data": {
      "text/plain": [
       "KNeighborsClassifier(algorithm='auto', leaf_size=30, metric='minkowski',\n",
       "                     metric_params=None, n_jobs=None, n_neighbors=15, p=2,\n",
       "                     weights='uniform')"
      ]
     },
     "execution_count": 46,
     "metadata": {},
     "output_type": "execute_result"
    }
   ],
   "source": [
    "#predicting using the Kneighbors)Classifier\n",
    "model_KNN = KNeighborsClassifier(n_neighbors=15)\n",
    "\n",
    "model_KNN.fit(X_train,y_train)"
   ]
  },
  {
   "cell_type": "code",
   "execution_count": 47,
   "metadata": {},
   "outputs": [
    {
     "name": "stdout",
     "output_type": "stream",
     "text": [
      "[[ 0 14]\n",
      " [ 0  7]]\n",
      "Classification report: \n",
      "              precision    recall  f1-score   support\n",
      "\n",
      "           0       0.00      0.00      0.00        14\n",
      "           1       0.33      1.00      0.50         7\n",
      "\n",
      "    accuracy                           0.33        21\n",
      "   macro avg       0.17      0.50      0.25        21\n",
      "weighted avg       0.11      0.33      0.17        21\n",
      "\n",
      "Accuracy of the model:  0.3333333333333333\n"
     ]
    }
   ],
   "source": [
    "y_pred=model_KNN.predict(X_test_scale)\n",
    "\n",
    "cfm = confusion_matrix(y_test, y_pred)\n",
    "print(cfm)\n",
    "\n",
    "print(\"Classification report: \")\n",
    "\n",
    "print(classification_report(y_test, y_pred))\n",
    "\n",
    "acc = accuracy_score(y_test, y_pred)\n",
    "print(\"Accuracy of the model: \", acc) "
   ]
  },
  {
   "cell_type": "code",
   "execution_count": 48,
   "metadata": {},
   "outputs": [
    {
     "name": "stdout",
     "output_type": "stream",
     "text": [
      "[[  0 535]\n",
      " [  0 335]]\n",
      "Classification report: \n",
      "              precision    recall  f1-score   support\n",
      "\n",
      "           0       0.00      0.00      0.00       535\n",
      "           1       0.39      1.00      0.56       335\n",
      "\n",
      "    accuracy                           0.39       870\n",
      "   macro avg       0.19      0.50      0.28       870\n",
      "weighted avg       0.15      0.39      0.21       870\n",
      "\n",
      "Accuracy of the model:  0.3850574712643678\n"
     ]
    }
   ],
   "source": [
    "y_pred=model_KNN.predict(X_train_scale)\n",
    "\n",
    "cfm = confusion_matrix(y_train, y_pred)\n",
    "print(cfm)\n",
    "\n",
    "print(\"Classification report: \")\n",
    "\n",
    "print(classification_report(y_train, y_pred))\n",
    "\n",
    "acc = accuracy_score(y_train, y_pred)\n",
    "print(\"Accuracy of the model: \", acc) "
   ]
  },
  {
   "cell_type": "code",
   "execution_count": 53,
   "metadata": {},
   "outputs": [
    {
     "name": "stdout",
     "output_type": "stream",
     "text": [
      "Accuracy is :0.9 for K-Value: 1\n",
      "Accuracy is :0.9 for K-Value: 2\n",
      "Accuracy is :0.81 for K-Value: 3\n",
      "Accuracy is :0.86 for K-Value: 4\n",
      "Accuracy is :0.86 for K-Value: 5\n",
      "Accuracy is :0.86 for K-Value: 6\n",
      "Accuracy is :0.81 for K-Value: 7\n",
      "Accuracy is :0.9 for K-Value: 8\n",
      "Accuracy is :0.81 for K-Value: 9\n",
      "Accuracy is :0.86 for K-Value: 10\n",
      "Accuracy is :0.81 for K-Value: 11\n",
      "Accuracy is :0.9 for K-Value: 12\n",
      "Accuracy is :0.9 for K-Value: 13\n",
      "Accuracy is :0.9 for K-Value: 14\n",
      "Accuracy is :0.9 for K-Value: 15\n",
      "Accuracy is :0.86 for K-Value: 16\n",
      "Accuracy is :0.81 for K-Value: 17\n",
      "Accuracy is :0.76 for K-Value: 18\n",
      "Accuracy is :0.81 for K-Value: 19\n",
      "Accuracy is :0.81 for K-Value: 20\n",
      "Accuracy is :0.81 for K-Value: 21\n",
      "Accuracy is :0.9 for K-Value: 22\n",
      "Accuracy is :0.86 for K-Value: 23\n",
      "Accuracy is :0.86 for K-Value: 24\n",
      "Accuracy is :0.81 for K-Value: 25\n",
      "Accuracy is :0.86 for K-Value: 26\n",
      "Accuracy is :0.86 for K-Value: 27\n",
      "Accuracy is :0.86 for K-Value: 28\n",
      "Accuracy is :0.86 for K-Value: 29\n",
      "Accuracy is :0.86 for K-Value: 30\n"
     ]
    }
   ],
   "source": [
    "acc_dict = dict()\n",
    "\n",
    "for K in range (1,31):\n",
    "    # create object with k value\n",
    "    model_KNN = KNeighborsClassifier(K, metric='euclidean')\n",
    "    \n",
    "    # model fit\n",
    "    model_KNN.fit(X_train_scale, y_train)\n",
    "    \n",
    "    # model prediction\n",
    "    y_pred = model_KNN.predict(X_test_scale)\n",
    "    \n",
    "    acc_score=round(accuracy_score(y_test, y_pred),2)\n",
    "    \n",
    "    # print accuracy score \n",
    "    print(\"Accuracy is :{} for K-Value: {}\".format(acc_score,K))\n",
    "    acc_dict[K] = acc_score"
   ]
  },
  {
   "cell_type": "code",
   "execution_count": 54,
   "metadata": {},
   "outputs": [
    {
     "name": "stdout",
     "output_type": "stream",
     "text": [
      "1 : 0.9\n",
      "2 : 0.9\n",
      "8 : 0.9\n",
      "12 : 0.9\n",
      "13 : 0.9\n",
      "14 : 0.9\n",
      "15 : 0.9\n",
      "22 : 0.9\n"
     ]
    }
   ],
   "source": [
    "for k in acc_dict:\n",
    "    if acc_dict[k] == max(acc_dict.values()):\n",
    "        print(k,\":\", acc_dict[k])"
   ]
  },
  {
   "cell_type": "code",
   "execution_count": 55,
   "metadata": {},
   "outputs": [],
   "source": [
    "model = KNeighborsClassifier(n_neighbors=5, metric=\"euclidean\", n_jobs=-1)\n",
    "\n",
    "# model fit\n",
    "model.fit(X_train_scale, y_train)\n",
    "\n",
    "# model prediction \n",
    "y_pred = model.predict(X_test_scale)"
   ]
  },
  {
   "cell_type": "code",
   "execution_count": 56,
   "metadata": {},
   "outputs": [
    {
     "name": "stdout",
     "output_type": "stream",
     "text": [
      "[[11  3]\n",
      " [ 0  7]]\n",
      "\n",
      "classification report: \n",
      "              precision    recall  f1-score   support\n",
      "\n",
      "           0       1.00      0.79      0.88        14\n",
      "           1       0.70      1.00      0.82         7\n",
      "\n",
      "    accuracy                           0.86        21\n",
      "   macro avg       0.85      0.89      0.85        21\n",
      "weighted avg       0.90      0.86      0.86        21\n",
      "\n",
      "Accuracy of the model:  0.8571428571428571\n"
     ]
    }
   ],
   "source": [
    "conf_matrix=confusion_matrix(y_test, y_pred)\n",
    "print(conf_matrix)\n",
    "print()\n",
    "\n",
    "print(\"classification report: \")\n",
    "\n",
    "print(classification_report(y_test, y_pred))\n",
    "\n",
    "acc_score=accuracy_score(y_test, y_pred)\n",
    "print(\"Accuracy of the model: \", acc_score)"
   ]
  },
  {
   "cell_type": "code",
   "execution_count": 57,
   "metadata": {},
   "outputs": [
    {
     "name": "stdout",
     "output_type": "stream",
     "text": [
      "[[500  35]\n",
      " [107 228]]\n",
      "\n",
      "classification report: \n",
      "              precision    recall  f1-score   support\n",
      "\n",
      "           0       0.82      0.93      0.88       535\n",
      "           1       0.87      0.68      0.76       335\n",
      "\n",
      "    accuracy                           0.84       870\n",
      "   macro avg       0.85      0.81      0.82       870\n",
      "weighted avg       0.84      0.84      0.83       870\n",
      "\n",
      "Accuracy of the model:  0.8367816091954023\n"
     ]
    }
   ],
   "source": [
    "y_pred = model.predict(X_train_scale)\n",
    "conf_matrix=confusion_matrix(y_train, y_pred)\n",
    "print(conf_matrix)\n",
    "print()\n",
    "\n",
    "print(\"classification report: \")\n",
    "\n",
    "print(classification_report(y_train, y_pred))\n",
    "\n",
    "acc_score=accuracy_score(y_train, y_pred)\n",
    "print(\"Accuracy of the model: \", acc_score)"
   ]
  },
  {
   "cell_type": "code",
   "execution_count": null,
   "metadata": {},
   "outputs": [],
   "source": []
  }
 ],
 "metadata": {
  "kernelspec": {
   "display_name": "Python 3",
   "language": "python",
   "name": "python3"
  },
  "language_info": {
   "codemirror_mode": {
    "name": "ipython",
    "version": 3
   },
   "file_extension": ".py",
   "mimetype": "text/x-python",
   "name": "python",
   "nbconvert_exporter": "python",
   "pygments_lexer": "ipython3",
   "version": "3.7.6"
  }
 },
 "nbformat": 4,
 "nbformat_minor": 4
}
